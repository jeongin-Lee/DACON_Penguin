{
 "cells": [
  {
   "cell_type": "code",
   "execution_count": 138,
   "metadata": {},
   "outputs": [],
   "source": [
    "import pandas as pd \n",
    "import numpy as np\n",
    "from sklearn.preprocessing import LabelEncoder\n",
    "\n",
    "train = pd.read_csv('train.csv')\n",
    "test =  pd.read_csv('test.csv')\n",
    "origin_train = pd.read_csv('train.csv')\n",
    "orifin_test =  pd.read_csv('test.csv')"
   ]
  },
  {
   "cell_type": "markdown",
   "metadata": {},
   "source": [
    "# Feature engineering"
   ]
  },
  {
   "cell_type": "markdown",
   "metadata": {},
   "source": [
    "## fill null data"
   ]
  },
  {
   "cell_type": "code",
   "execution_count": 140,
   "metadata": {},
   "outputs": [
    {
     "data": {
      "text/html": [
       "<div>\n",
       "<style scoped>\n",
       "    .dataframe tbody tr th:only-of-type {\n",
       "        vertical-align: middle;\n",
       "    }\n",
       "\n",
       "    .dataframe tbody tr th {\n",
       "        vertical-align: top;\n",
       "    }\n",
       "\n",
       "    .dataframe thead th {\n",
       "        text-align: right;\n",
       "    }\n",
       "</style>\n",
       "<table border=\"1\" class=\"dataframe\">\n",
       "  <thead>\n",
       "    <tr style=\"text-align: right;\">\n",
       "      <th></th>\n",
       "      <th>id</th>\n",
       "      <th>Species</th>\n",
       "      <th>Island</th>\n",
       "      <th>Clutch Completion</th>\n",
       "      <th>Culmen Length (mm)</th>\n",
       "      <th>Culmen Depth (mm)</th>\n",
       "      <th>Flipper Length (mm)</th>\n",
       "      <th>Sex</th>\n",
       "      <th>Delta 15 N (o/oo)</th>\n",
       "      <th>Delta 13 C (o/oo)</th>\n",
       "      <th>Body Mass (g)</th>\n",
       "    </tr>\n",
       "  </thead>\n",
       "  <tbody>\n",
       "    <tr>\n",
       "      <th>6</th>\n",
       "      <td>6</td>\n",
       "      <td>Adelie Penguin (Pygoscelis adeliae)</td>\n",
       "      <td>Torgersen</td>\n",
       "      <td>Yes</td>\n",
       "      <td>42.0</td>\n",
       "      <td>20.2</td>\n",
       "      <td>190</td>\n",
       "      <td>NaN</td>\n",
       "      <td>9.13362</td>\n",
       "      <td>-25.09368</td>\n",
       "      <td>4250</td>\n",
       "    </tr>\n",
       "    <tr>\n",
       "      <th>8</th>\n",
       "      <td>8</td>\n",
       "      <td>Adelie Penguin (Pygoscelis adeliae)</td>\n",
       "      <td>Torgersen</td>\n",
       "      <td>Yes</td>\n",
       "      <td>34.1</td>\n",
       "      <td>18.1</td>\n",
       "      <td>193</td>\n",
       "      <td>NaN</td>\n",
       "      <td>NaN</td>\n",
       "      <td>NaN</td>\n",
       "      <td>3475</td>\n",
       "    </tr>\n",
       "    <tr>\n",
       "      <th>18</th>\n",
       "      <td>18</td>\n",
       "      <td>Adelie Penguin (Pygoscelis adeliae)</td>\n",
       "      <td>Dream</td>\n",
       "      <td>No</td>\n",
       "      <td>39.8</td>\n",
       "      <td>19.1</td>\n",
       "      <td>184</td>\n",
       "      <td>MALE</td>\n",
       "      <td>NaN</td>\n",
       "      <td>NaN</td>\n",
       "      <td>4650</td>\n",
       "    </tr>\n",
       "    <tr>\n",
       "      <th>70</th>\n",
       "      <td>70</td>\n",
       "      <td>Gentoo penguin (Pygoscelis papua)</td>\n",
       "      <td>Biscoe</td>\n",
       "      <td>Yes</td>\n",
       "      <td>46.2</td>\n",
       "      <td>14.4</td>\n",
       "      <td>214</td>\n",
       "      <td>NaN</td>\n",
       "      <td>8.24253</td>\n",
       "      <td>-26.81540</td>\n",
       "      <td>4650</td>\n",
       "    </tr>\n",
       "    <tr>\n",
       "      <th>109</th>\n",
       "      <td>109</td>\n",
       "      <td>Adelie Penguin (Pygoscelis adeliae)</td>\n",
       "      <td>Torgersen</td>\n",
       "      <td>Yes</td>\n",
       "      <td>36.6</td>\n",
       "      <td>17.8</td>\n",
       "      <td>185</td>\n",
       "      <td>FEMALE</td>\n",
       "      <td>NaN</td>\n",
       "      <td>NaN</td>\n",
       "      <td>3700</td>\n",
       "    </tr>\n",
       "  </tbody>\n",
       "</table>\n",
       "</div>"
      ],
      "text/plain": [
       "      id                              Species     Island Clutch Completion  \\\n",
       "6      6  Adelie Penguin (Pygoscelis adeliae)  Torgersen               Yes   \n",
       "8      8  Adelie Penguin (Pygoscelis adeliae)  Torgersen               Yes   \n",
       "18    18  Adelie Penguin (Pygoscelis adeliae)      Dream                No   \n",
       "70    70    Gentoo penguin (Pygoscelis papua)     Biscoe               Yes   \n",
       "109  109  Adelie Penguin (Pygoscelis adeliae)  Torgersen               Yes   \n",
       "\n",
       "     Culmen Length (mm)  Culmen Depth (mm)  Flipper Length (mm)     Sex  \\\n",
       "6                  42.0               20.2                  190     NaN   \n",
       "8                  34.1               18.1                  193     NaN   \n",
       "18                 39.8               19.1                  184    MALE   \n",
       "70                 46.2               14.4                  214     NaN   \n",
       "109                36.6               17.8                  185  FEMALE   \n",
       "\n",
       "     Delta 15 N (o/oo)  Delta 13 C (o/oo)  Body Mass (g)  \n",
       "6              9.13362          -25.09368           4250  \n",
       "8                  NaN                NaN           3475  \n",
       "18                 NaN                NaN           4650  \n",
       "70             8.24253          -26.81540           4650  \n",
       "109                NaN                NaN           3700  "
      ]
     },
     "execution_count": 140,
     "metadata": {},
     "output_type": "execute_result"
    }
   ],
   "source": [
    "train[train.isna().sum(axis=1) > 0]"
   ]
  },
  {
   "cell_type": "markdown",
   "metadata": {},
   "source": [
    "* Species와 Flipper Length (mm)를 이용한 결측값 채우기"
   ]
  },
  {
   "cell_type": "code",
   "execution_count": 141,
   "metadata": {},
   "outputs": [
    {
     "data": {
      "text/html": [
       "<div>\n",
       "<style scoped>\n",
       "    .dataframe tbody tr th:only-of-type {\n",
       "        vertical-align: middle;\n",
       "    }\n",
       "\n",
       "    .dataframe tbody tr th {\n",
       "        vertical-align: top;\n",
       "    }\n",
       "\n",
       "    .dataframe thead th {\n",
       "        text-align: right;\n",
       "    }\n",
       "</style>\n",
       "<table border=\"1\" class=\"dataframe\">\n",
       "  <thead>\n",
       "    <tr style=\"text-align: right;\">\n",
       "      <th></th>\n",
       "      <th>Species</th>\n",
       "      <th>Sex</th>\n",
       "      <th>Flipper Length (mm)</th>\n",
       "    </tr>\n",
       "  </thead>\n",
       "  <tbody>\n",
       "    <tr>\n",
       "      <th>0</th>\n",
       "      <td>Adelie Penguin (Pygoscelis adeliae)</td>\n",
       "      <td>FEMALE</td>\n",
       "      <td>187.166667</td>\n",
       "    </tr>\n",
       "    <tr>\n",
       "      <th>1</th>\n",
       "      <td>Adelie Penguin (Pygoscelis adeliae)</td>\n",
       "      <td>MALE</td>\n",
       "      <td>191.619048</td>\n",
       "    </tr>\n",
       "    <tr>\n",
       "      <th>2</th>\n",
       "      <td>Chinstrap penguin (Pygoscelis antarctica)</td>\n",
       "      <td>FEMALE</td>\n",
       "      <td>192.642857</td>\n",
       "    </tr>\n",
       "    <tr>\n",
       "      <th>3</th>\n",
       "      <td>Chinstrap penguin (Pygoscelis antarctica)</td>\n",
       "      <td>MALE</td>\n",
       "      <td>200.454545</td>\n",
       "    </tr>\n",
       "    <tr>\n",
       "      <th>4</th>\n",
       "      <td>Gentoo penguin (Pygoscelis papua)</td>\n",
       "      <td>FEMALE</td>\n",
       "      <td>213.217391</td>\n",
       "    </tr>\n",
       "    <tr>\n",
       "      <th>5</th>\n",
       "      <td>Gentoo penguin (Pygoscelis papua)</td>\n",
       "      <td>MALE</td>\n",
       "      <td>223.000000</td>\n",
       "    </tr>\n",
       "  </tbody>\n",
       "</table>\n",
       "</div>"
      ],
      "text/plain": [
       "                                     Species     Sex  Flipper Length (mm)\n",
       "0        Adelie Penguin (Pygoscelis adeliae)  FEMALE           187.166667\n",
       "1        Adelie Penguin (Pygoscelis adeliae)    MALE           191.619048\n",
       "2  Chinstrap penguin (Pygoscelis antarctica)  FEMALE           192.642857\n",
       "3  Chinstrap penguin (Pygoscelis antarctica)    MALE           200.454545\n",
       "4          Gentoo penguin (Pygoscelis papua)  FEMALE           213.217391\n",
       "5          Gentoo penguin (Pygoscelis papua)    MALE           223.000000"
      ]
     },
     "execution_count": 141,
     "metadata": {},
     "output_type": "execute_result"
    }
   ],
   "source": [
    "train.groupby(['Species','Sex'])['Flipper Length (mm)'].mean().reset_index()"
   ]
  },
  {
   "cell_type": "code",
   "execution_count": 142,
   "metadata": {},
   "outputs": [],
   "source": [
    "train.loc[6,'Sex']='MALE'\n",
    "train.loc[8,'Sex']='MALE'\n",
    "train.loc[70,'Sex']='FEMALE'"
   ]
  },
  {
   "cell_type": "code",
   "execution_count": 143,
   "metadata": {},
   "outputs": [],
   "source": [
    "test[test.isna().sum(axis=1) > 0]\n",
    "test.iloc[[46,81,205,209],[7]] = \"FEMALE\"\n",
    "test.iloc[[98,152],[7]]= \"MALE\""
   ]
  },
  {
   "cell_type": "code",
   "execution_count": 144,
   "metadata": {},
   "outputs": [],
   "source": [
    "train.loc[:,'Delta 15 N (o/oo)'] = train['Delta 15 N (o/oo)'].fillna(train['Delta 15 N (o/oo)'].median())\n",
    "train.loc[:,'Delta 13 C (o/oo)'] = train['Delta 13 C (o/oo)'].fillna(train['Delta 13 C (o/oo)'].median())\n",
    "test.loc[:,'Delta 15 N (o/oo)'] = test['Delta 15 N (o/oo)'].fillna(train['Delta 15 N (o/oo)'].median())\n",
    "test.loc[:,'Delta 13 C (o/oo)'] = test['Delta 13 C (o/oo)'].fillna(train['Delta 13 C (o/oo)'].median())\n",
    "\n",
    "## 보완 : 섬 별 중앙값으로 대체"
   ]
  },
  {
   "cell_type": "code",
   "execution_count": 145,
   "metadata": {},
   "outputs": [
    {
     "data": {
      "text/plain": [
       "id                     0\n",
       "Species                0\n",
       "Island                 0\n",
       "Clutch Completion      0\n",
       "Culmen Length (mm)     0\n",
       "Culmen Depth (mm)      0\n",
       "Flipper Length (mm)    0\n",
       "Sex                    0\n",
       "Delta 15 N (o/oo)      0\n",
       "Delta 13 C (o/oo)      0\n",
       "Body Mass (g)          0\n",
       "dtype: int64"
      ]
     },
     "execution_count": 145,
     "metadata": {},
     "output_type": "execute_result"
    }
   ],
   "source": [
    "train.isnull().sum()"
   ]
  },
  {
   "cell_type": "code",
   "execution_count": 146,
   "metadata": {},
   "outputs": [
    {
     "data": {
      "text/plain": [
       "id                     0\n",
       "Species                0\n",
       "Island                 0\n",
       "Clutch Completion      0\n",
       "Culmen Length (mm)     0\n",
       "Culmen Depth (mm)      0\n",
       "Flipper Length (mm)    0\n",
       "Sex                    0\n",
       "Delta 15 N (o/oo)      0\n",
       "Delta 13 C (o/oo)      0\n",
       "dtype: int64"
      ]
     },
     "execution_count": 146,
     "metadata": {},
     "output_type": "execute_result"
    }
   ],
   "source": [
    "test.isnull().sum()"
   ]
  },
  {
   "cell_type": "code",
   "execution_count": 147,
   "metadata": {},
   "outputs": [],
   "source": [
    "# train.head()"
   ]
  },
  {
   "cell_type": "code",
   "execution_count": 21,
   "metadata": {},
   "outputs": [],
   "source": [
    "# test.head()"
   ]
  },
  {
   "cell_type": "markdown",
   "metadata": {},
   "source": [
    "## One-hot encoding & drop columns\n",
    "* get dummies 적용 \n",
    "* 열 제거  \n",
    "\n",
    "train -> tr -> tr1    \n",
    "test  -> te -> tr2  "
   ]
  },
  {
   "cell_type": "markdown",
   "metadata": {},
   "source": [
    "### train "
   ]
  },
  {
   "cell_type": "code",
   "execution_count": 148,
   "metadata": {},
   "outputs": [],
   "source": [
    "train_target = train['Body Mass (g)']\n",
    "train = train.drop(['id','Clutch Completion'], axis=1)"
   ]
  },
  {
   "cell_type": "code",
   "execution_count": 149,
   "metadata": {},
   "outputs": [],
   "source": [
    "tr = pd.get_dummies(train)\n",
    "tr= tr.drop('Body Mass (g)', axis=1)"
   ]
  },
  {
   "cell_type": "code",
   "execution_count": 150,
   "metadata": {},
   "outputs": [],
   "source": [
    "tr1 = tr\n",
    "tr1 = tr1.drop(['Delta 15 N (o/oo)','Delta 13 C (o/oo)'], axis=1)"
   ]
  },
  {
   "cell_type": "code",
   "execution_count": 151,
   "metadata": {},
   "outputs": [
    {
     "data": {
      "text/html": [
       "<div>\n",
       "<style scoped>\n",
       "    .dataframe tbody tr th:only-of-type {\n",
       "        vertical-align: middle;\n",
       "    }\n",
       "\n",
       "    .dataframe tbody tr th {\n",
       "        vertical-align: top;\n",
       "    }\n",
       "\n",
       "    .dataframe thead th {\n",
       "        text-align: right;\n",
       "    }\n",
       "</style>\n",
       "<table border=\"1\" class=\"dataframe\">\n",
       "  <thead>\n",
       "    <tr style=\"text-align: right;\">\n",
       "      <th></th>\n",
       "      <th>Culmen Length (mm)</th>\n",
       "      <th>Culmen Depth (mm)</th>\n",
       "      <th>Flipper Length (mm)</th>\n",
       "      <th>Delta 15 N (o/oo)</th>\n",
       "      <th>Delta 13 C (o/oo)</th>\n",
       "      <th>Species_Adelie Penguin (Pygoscelis adeliae)</th>\n",
       "      <th>Species_Chinstrap penguin (Pygoscelis antarctica)</th>\n",
       "      <th>Species_Gentoo penguin (Pygoscelis papua)</th>\n",
       "      <th>Island_Biscoe</th>\n",
       "      <th>Island_Dream</th>\n",
       "      <th>Island_Torgersen</th>\n",
       "      <th>Sex_FEMALE</th>\n",
       "      <th>Sex_MALE</th>\n",
       "    </tr>\n",
       "  </thead>\n",
       "  <tbody>\n",
       "    <tr>\n",
       "      <th>0</th>\n",
       "      <td>50.0</td>\n",
       "      <td>15.3</td>\n",
       "      <td>220</td>\n",
       "      <td>8.30515</td>\n",
       "      <td>-25.19017</td>\n",
       "      <td>0</td>\n",
       "      <td>0</td>\n",
       "      <td>1</td>\n",
       "      <td>1</td>\n",
       "      <td>0</td>\n",
       "      <td>0</td>\n",
       "      <td>0</td>\n",
       "      <td>1</td>\n",
       "    </tr>\n",
       "    <tr>\n",
       "      <th>1</th>\n",
       "      <td>49.5</td>\n",
       "      <td>19.0</td>\n",
       "      <td>200</td>\n",
       "      <td>9.63074</td>\n",
       "      <td>-24.34684</td>\n",
       "      <td>0</td>\n",
       "      <td>1</td>\n",
       "      <td>0</td>\n",
       "      <td>0</td>\n",
       "      <td>1</td>\n",
       "      <td>0</td>\n",
       "      <td>0</td>\n",
       "      <td>1</td>\n",
       "    </tr>\n",
       "    <tr>\n",
       "      <th>2</th>\n",
       "      <td>45.1</td>\n",
       "      <td>14.4</td>\n",
       "      <td>210</td>\n",
       "      <td>8.51951</td>\n",
       "      <td>-27.01854</td>\n",
       "      <td>0</td>\n",
       "      <td>0</td>\n",
       "      <td>1</td>\n",
       "      <td>1</td>\n",
       "      <td>0</td>\n",
       "      <td>0</td>\n",
       "      <td>1</td>\n",
       "      <td>0</td>\n",
       "    </tr>\n",
       "    <tr>\n",
       "      <th>3</th>\n",
       "      <td>44.5</td>\n",
       "      <td>14.7</td>\n",
       "      <td>214</td>\n",
       "      <td>8.20106</td>\n",
       "      <td>-26.16524</td>\n",
       "      <td>0</td>\n",
       "      <td>0</td>\n",
       "      <td>1</td>\n",
       "      <td>1</td>\n",
       "      <td>0</td>\n",
       "      <td>0</td>\n",
       "      <td>1</td>\n",
       "      <td>0</td>\n",
       "    </tr>\n",
       "    <tr>\n",
       "      <th>4</th>\n",
       "      <td>49.6</td>\n",
       "      <td>16.0</td>\n",
       "      <td>225</td>\n",
       "      <td>8.38324</td>\n",
       "      <td>-26.84272</td>\n",
       "      <td>0</td>\n",
       "      <td>0</td>\n",
       "      <td>1</td>\n",
       "      <td>1</td>\n",
       "      <td>0</td>\n",
       "      <td>0</td>\n",
       "      <td>0</td>\n",
       "      <td>1</td>\n",
       "    </tr>\n",
       "  </tbody>\n",
       "</table>\n",
       "</div>"
      ],
      "text/plain": [
       "   Culmen Length (mm)  Culmen Depth (mm)  Flipper Length (mm)  \\\n",
       "0                50.0               15.3                  220   \n",
       "1                49.5               19.0                  200   \n",
       "2                45.1               14.4                  210   \n",
       "3                44.5               14.7                  214   \n",
       "4                49.6               16.0                  225   \n",
       "\n",
       "   Delta 15 N (o/oo)  Delta 13 C (o/oo)  \\\n",
       "0            8.30515          -25.19017   \n",
       "1            9.63074          -24.34684   \n",
       "2            8.51951          -27.01854   \n",
       "3            8.20106          -26.16524   \n",
       "4            8.38324          -26.84272   \n",
       "\n",
       "   Species_Adelie Penguin (Pygoscelis adeliae)  \\\n",
       "0                                            0   \n",
       "1                                            0   \n",
       "2                                            0   \n",
       "3                                            0   \n",
       "4                                            0   \n",
       "\n",
       "   Species_Chinstrap penguin (Pygoscelis antarctica)  \\\n",
       "0                                                  0   \n",
       "1                                                  1   \n",
       "2                                                  0   \n",
       "3                                                  0   \n",
       "4                                                  0   \n",
       "\n",
       "   Species_Gentoo penguin (Pygoscelis papua)  Island_Biscoe  Island_Dream  \\\n",
       "0                                          1              1             0   \n",
       "1                                          0              0             1   \n",
       "2                                          1              1             0   \n",
       "3                                          1              1             0   \n",
       "4                                          1              1             0   \n",
       "\n",
       "   Island_Torgersen  Sex_FEMALE  Sex_MALE  \n",
       "0                 0           0         1  \n",
       "1                 0           0         1  \n",
       "2                 0           1         0  \n",
       "3                 0           1         0  \n",
       "4                 0           0         1  "
      ]
     },
     "execution_count": 151,
     "metadata": {},
     "output_type": "execute_result"
    }
   ],
   "source": [
    "tr.head()"
   ]
  },
  {
   "cell_type": "code",
   "execution_count": 152,
   "metadata": {},
   "outputs": [
    {
     "data": {
      "text/html": [
       "<div>\n",
       "<style scoped>\n",
       "    .dataframe tbody tr th:only-of-type {\n",
       "        vertical-align: middle;\n",
       "    }\n",
       "\n",
       "    .dataframe tbody tr th {\n",
       "        vertical-align: top;\n",
       "    }\n",
       "\n",
       "    .dataframe thead th {\n",
       "        text-align: right;\n",
       "    }\n",
       "</style>\n",
       "<table border=\"1\" class=\"dataframe\">\n",
       "  <thead>\n",
       "    <tr style=\"text-align: right;\">\n",
       "      <th></th>\n",
       "      <th>Culmen Length (mm)</th>\n",
       "      <th>Culmen Depth (mm)</th>\n",
       "      <th>Flipper Length (mm)</th>\n",
       "      <th>Species_Adelie Penguin (Pygoscelis adeliae)</th>\n",
       "      <th>Species_Chinstrap penguin (Pygoscelis antarctica)</th>\n",
       "      <th>Species_Gentoo penguin (Pygoscelis papua)</th>\n",
       "      <th>Island_Biscoe</th>\n",
       "      <th>Island_Dream</th>\n",
       "      <th>Island_Torgersen</th>\n",
       "      <th>Sex_FEMALE</th>\n",
       "      <th>Sex_MALE</th>\n",
       "    </tr>\n",
       "  </thead>\n",
       "  <tbody>\n",
       "    <tr>\n",
       "      <th>0</th>\n",
       "      <td>50.0</td>\n",
       "      <td>15.3</td>\n",
       "      <td>220</td>\n",
       "      <td>0</td>\n",
       "      <td>0</td>\n",
       "      <td>1</td>\n",
       "      <td>1</td>\n",
       "      <td>0</td>\n",
       "      <td>0</td>\n",
       "      <td>0</td>\n",
       "      <td>1</td>\n",
       "    </tr>\n",
       "    <tr>\n",
       "      <th>1</th>\n",
       "      <td>49.5</td>\n",
       "      <td>19.0</td>\n",
       "      <td>200</td>\n",
       "      <td>0</td>\n",
       "      <td>1</td>\n",
       "      <td>0</td>\n",
       "      <td>0</td>\n",
       "      <td>1</td>\n",
       "      <td>0</td>\n",
       "      <td>0</td>\n",
       "      <td>1</td>\n",
       "    </tr>\n",
       "    <tr>\n",
       "      <th>2</th>\n",
       "      <td>45.1</td>\n",
       "      <td>14.4</td>\n",
       "      <td>210</td>\n",
       "      <td>0</td>\n",
       "      <td>0</td>\n",
       "      <td>1</td>\n",
       "      <td>1</td>\n",
       "      <td>0</td>\n",
       "      <td>0</td>\n",
       "      <td>1</td>\n",
       "      <td>0</td>\n",
       "    </tr>\n",
       "    <tr>\n",
       "      <th>3</th>\n",
       "      <td>44.5</td>\n",
       "      <td>14.7</td>\n",
       "      <td>214</td>\n",
       "      <td>0</td>\n",
       "      <td>0</td>\n",
       "      <td>1</td>\n",
       "      <td>1</td>\n",
       "      <td>0</td>\n",
       "      <td>0</td>\n",
       "      <td>1</td>\n",
       "      <td>0</td>\n",
       "    </tr>\n",
       "    <tr>\n",
       "      <th>4</th>\n",
       "      <td>49.6</td>\n",
       "      <td>16.0</td>\n",
       "      <td>225</td>\n",
       "      <td>0</td>\n",
       "      <td>0</td>\n",
       "      <td>1</td>\n",
       "      <td>1</td>\n",
       "      <td>0</td>\n",
       "      <td>0</td>\n",
       "      <td>0</td>\n",
       "      <td>1</td>\n",
       "    </tr>\n",
       "  </tbody>\n",
       "</table>\n",
       "</div>"
      ],
      "text/plain": [
       "   Culmen Length (mm)  Culmen Depth (mm)  Flipper Length (mm)  \\\n",
       "0                50.0               15.3                  220   \n",
       "1                49.5               19.0                  200   \n",
       "2                45.1               14.4                  210   \n",
       "3                44.5               14.7                  214   \n",
       "4                49.6               16.0                  225   \n",
       "\n",
       "   Species_Adelie Penguin (Pygoscelis adeliae)  \\\n",
       "0                                            0   \n",
       "1                                            0   \n",
       "2                                            0   \n",
       "3                                            0   \n",
       "4                                            0   \n",
       "\n",
       "   Species_Chinstrap penguin (Pygoscelis antarctica)  \\\n",
       "0                                                  0   \n",
       "1                                                  1   \n",
       "2                                                  0   \n",
       "3                                                  0   \n",
       "4                                                  0   \n",
       "\n",
       "   Species_Gentoo penguin (Pygoscelis papua)  Island_Biscoe  Island_Dream  \\\n",
       "0                                          1              1             0   \n",
       "1                                          0              0             1   \n",
       "2                                          1              1             0   \n",
       "3                                          1              1             0   \n",
       "4                                          1              1             0   \n",
       "\n",
       "   Island_Torgersen  Sex_FEMALE  Sex_MALE  \n",
       "0                 0           0         1  \n",
       "1                 0           0         1  \n",
       "2                 0           1         0  \n",
       "3                 0           1         0  \n",
       "4                 0           0         1  "
      ]
     },
     "execution_count": 152,
     "metadata": {},
     "output_type": "execute_result"
    }
   ],
   "source": [
    "tr1.head()"
   ]
  },
  {
   "cell_type": "markdown",
   "metadata": {},
   "source": [
    "### test"
   ]
  },
  {
   "cell_type": "code",
   "execution_count": 153,
   "metadata": {},
   "outputs": [],
   "source": [
    "test = test.drop('Clutch Completion', axis=1)\n",
    "te = pd.get_dummies(test)\n",
    "te = te.drop('id', axis=1)"
   ]
  },
  {
   "cell_type": "code",
   "execution_count": 154,
   "metadata": {},
   "outputs": [],
   "source": [
    "te1 = te\n",
    "te1 = te1.drop(['Delta 15 N (o/oo)','Delta 13 C (o/oo)'], axis=1)"
   ]
  },
  {
   "cell_type": "code",
   "execution_count": 155,
   "metadata": {},
   "outputs": [
    {
     "name": "stdout",
     "output_type": "stream",
     "text": [
      "[ True  True  True  True  True  True  True  True  True  True  True]\n"
     ]
    }
   ],
   "source": [
    "print(tr1.columns == te1.columns)"
   ]
  },
  {
   "cell_type": "markdown",
   "metadata": {},
   "source": [
    "* tr1  \n",
    "Culmen Length (mm)  \n",
    "Culmen Depth (mm)  \n",
    "Flipper Length (mm)  \n",
    "Species_Adelie Penguin (Pygoscelis adeliae)  \n",
    "Species_Chinstrap penguin (Pygoscelis antarctica)  \n",
    "Species_Gentoo penguin (Pygoscelis papua)  \n",
    "Island_Biscoe  \n",
    "Island_Dream  \n",
    "Island_Torgersen  \n",
    "Sex_FEMALE  \n",
    "Sex_MALE  \n",
    "\n",
    "\n",
    "\n",
    "* te1  \n",
    "Culmen Length (mm)  \n",
    "Culmen Depth (mm)  \n",
    "Flipper Length (mm)  \n",
    "Species_Adelie Penguin (Pygoscelis adeliae)  \n",
    "Species_Chinstrap penguin (Pygoscelis antarctica)  \n",
    "Species_Gentoo penguin (Pygoscelis papua)  \n",
    "Island_Biscoe  \n",
    "Island_Dream  \n",
    "Island_Torgersen  \n",
    "Sex_FEMALE  \n",
    "Sex_MALE  "
   ]
  },
  {
   "cell_type": "markdown",
   "metadata": {},
   "source": [
    "# Building machine learning model"
   ]
  },
  {
   "cell_type": "markdown",
   "metadata": {},
   "source": [
    "## tr, tr1 비교 (Delta 15 N (o/oo)','Delta 13 C (o/oo))"
   ]
  },
  {
   "cell_type": "markdown",
   "metadata": {},
   "source": [
    "tr"
   ]
  },
  {
   "cell_type": "code",
   "execution_count": 181,
   "metadata": {},
   "outputs": [],
   "source": [
    "from sklearn.model_selection import train_test_split\n",
    "\n",
    "x_train, x_test, y_train, y_test = train_test_split(tr, train_target, test_size=0.2)"
   ]
  },
  {
   "cell_type": "code",
   "execution_count": 182,
   "metadata": {},
   "outputs": [],
   "source": [
    "from sklearn.neighbors import KNeighborsRegressor\n",
    "from sklearn.linear_model import LinearRegression\n",
    "from sklearn.linear_model import Ridge\n",
    "from sklearn.linear_model import Lasso\n",
    "from sklearn.tree import DecisionTreeRegressor\n",
    "from sklearn.ensemble import RandomForestRegressor\n",
    "from sklearn.ensemble import GradientBoostingRegressor\n",
    "from xgboost import XGBRegressor"
   ]
  },
  {
   "cell_type": "code",
   "execution_count": 183,
   "metadata": {},
   "outputs": [],
   "source": [
    "score_List=[]"
   ]
  },
  {
   "cell_type": "code",
   "execution_count": 184,
   "metadata": {},
   "outputs": [],
   "source": [
    "model = KNeighborsRegressor(n_neighbors=5).fit(x_train, y_train)\n",
    "score_List.append(f'KNeighborsRegressor: train_score: {model.score(x_train, y_train)}, val_score: {model.score(x_test, y_test)}')\n",
    "\n",
    "model = LinearRegression().fit(x_train, y_train)\n",
    "score_List.append(f'LinearRegression: train_score: {model.score(x_train, y_train)}, val_score: {model.score(x_test, y_test)}')\n",
    "\n",
    "model = Ridge().fit(x_train, y_train)\n",
    "score_List.append(f'Ridge: train_score: {model.score(x_train, y_train)}, val_score: {model.score(x_test, y_test)}')\n",
    "\n",
    "model = Lasso().fit(x_train, y_train)\n",
    "score_List.append(f'Lasso: train_score: {model.score(x_train, y_train)}, val_score: {model.score(x_test, y_test)}')\n",
    "\n",
    "model = DecisionTreeRegressor().fit(x_train, y_train)\n",
    "score_List.append(f'DecisionTreeRegressor: train_score: {model.score(x_train, y_train)}, val_score: {model.score(x_test, y_test)}')\n",
    "\n",
    "model = RandomForestRegressor().fit(x_train, y_train)\n",
    "score_List.append(f'RandomForestRegressor: train_score: {model.score(x_train, y_train)}, val_score: {model.score(x_test, y_test)}')\n",
    "\n",
    "model = GradientBoostingRegressor().fit(x_train, y_train)\n",
    "score_List.append(f'GradientBoostingRegressor: train_score: {model.score(x_train, y_train)}, val_score: {model.score(x_test, y_test)}')\n",
    "\n",
    "model = XGBRegressor().fit(x_train, y_train)\n",
    "score_List.append(f'XGBRegressor: train_score: {model.score(x_train, y_train)}, val_score: {model.score(x_test, y_test)}')\n"
   ]
  },
  {
   "cell_type": "code",
   "execution_count": 185,
   "metadata": {},
   "outputs": [
    {
     "name": "stdout",
     "output_type": "stream",
     "text": [
      "KNeighborsRegressor: train_score: 0.8573760883619139, val_score: 0.7008541720443986\n",
      "LinearRegression: train_score: 0.8862219901172544, val_score: 0.7775310026270543\n",
      "Ridge: train_score: 0.8837141459189756, val_score: 0.7873009280279999\n",
      "Lasso: train_score: 0.8860880063299281, val_score: 0.7787916972398908\n",
      "DecisionTreeRegressor: train_score: 1.0, val_score: 0.6099194953536397\n",
      "RandomForestRegressor: train_score: 0.975926725303878, val_score: 0.7410069255775684\n",
      "GradientBoostingRegressor: train_score: 0.9925516106088064, val_score: 0.7073978015518756\n",
      "XGBRegressor: train_score: 0.9999999991802989, val_score: 0.7781108565032508\n"
     ]
    },
    {
     "data": {
      "text/plain": [
       "[None, None, None, None, None, None, None, None]"
      ]
     },
     "execution_count": 185,
     "metadata": {},
     "output_type": "execute_result"
    }
   ],
   "source": [
    "[print(i) for i in score_List] ## tr"
   ]
  },
  {
   "cell_type": "markdown",
   "metadata": {},
   "source": [
    "tr1"
   ]
  },
  {
   "cell_type": "code",
   "execution_count": 186,
   "metadata": {},
   "outputs": [],
   "source": [
    "x_train, x_test, y_train, y_test = train_test_split(tr1, train_target, test_size=0.2)\n",
    "score_List=[]\n",
    "\n",
    "model = KNeighborsRegressor(n_neighbors=5).fit(x_train, y_train)\n",
    "score_List.append(f'KNeighborsRegressor: train_score: {model.score(x_train, y_train)}, val_score: {model.score(x_test, y_test)}')\n",
    "\n",
    "model = LinearRegression().fit(x_train, y_train)\n",
    "score_List.append(f'LinearRegression: train_score: {model.score(x_train, y_train)}, val_score: {model.score(x_test, y_test)}')\n",
    "\n",
    "model = Ridge().fit(x_train, y_train)\n",
    "score_List.append(f'Ridge: train_score: {model.score(x_train, y_train)}, val_score: {model.score(x_test, y_test)}')\n",
    "\n",
    "model = Lasso().fit(x_train, y_train)\n",
    "score_List.append(f'Lasso: train_score: {model.score(x_train, y_train)}, val_score: {model.score(x_test, y_test)}')\n",
    "\n",
    "model = DecisionTreeRegressor().fit(x_train, y_train)\n",
    "score_List.append(f'DecisionTreeRegressor: train_score: {model.score(x_train, y_train)}, val_score: {model.score(x_test, y_test)}')\n",
    "\n",
    "model = RandomForestRegressor().fit(x_train, y_train)\n",
    "score_List.append(f'RandomForestRegressor: train_score: {model.score(x_train, y_train)}, val_score: {model.score(x_test, y_test)}')\n",
    "\n",
    "model = GradientBoostingRegressor().fit(x_train, y_train)\n",
    "score_List.append(f'GradientBoostingRegressor: train_score: {model.score(x_train, y_train)}, val_score: {model.score(x_test, y_test)}')\n",
    "\n",
    "model = XGBRegressor().fit(x_train, y_train)\n",
    "score_List.append(f'XGBRegressor: train_score: {model.score(x_train, y_train)}, val_score: {model.score(x_test, y_test)}')\n"
   ]
  },
  {
   "cell_type": "code",
   "execution_count": 188,
   "metadata": {},
   "outputs": [
    {
     "name": "stdout",
     "output_type": "stream",
     "text": [
      "KNeighborsRegressor: train_score: 0.8606618657705781, val_score: 0.7033902602184509\n",
      "LinearRegression: train_score: 0.8683535655536297, val_score: 0.8266789863966657\n",
      "Ridge: train_score: 0.8658979717913979, val_score: 0.8215931599426212\n",
      "Lasso: train_score: 0.8682475460581078, val_score: 0.8247290209383109\n",
      "DecisionTreeRegressor: train_score: 1.0, val_score: 0.7577028371625002\n",
      "RandomForestRegressor: train_score: 0.9713450918830374, val_score: 0.8135288824772752\n",
      "GradientBoostingRegressor: train_score: 0.9847981167784456, val_score: 0.7938716596625204\n",
      "XGBRegressor: train_score: 0.9999998942244084, val_score: 0.7777642530619426\n"
     ]
    },
    {
     "data": {
      "text/plain": [
       "[None, None, None, None, None, None, None, None]"
      ]
     },
     "execution_count": 188,
     "metadata": {},
     "output_type": "execute_result"
    }
   ],
   "source": [
    "[print(i) for i in score_List]  ## tr1"
   ]
  },
  {
   "cell_type": "markdown",
   "metadata": {},
   "source": [
    "* tr로 모델링 진행"
   ]
  },
  {
   "cell_type": "markdown",
   "metadata": {},
   "source": [
    "## tr 모델링"
   ]
  },
  {
   "cell_type": "markdown",
   "metadata": {},
   "source": [
    "### 릿지 회귀 (정규화 x)"
   ]
  },
  {
   "cell_type": "code",
   "execution_count": 210,
   "metadata": {},
   "outputs": [],
   "source": [
    "from sklearn.linear_model import Ridge"
   ]
  },
  {
   "cell_type": "code",
   "execution_count": 211,
   "metadata": {},
   "outputs": [
    {
     "name": "stdout",
     "output_type": "stream",
     "text": [
      "{'alpha': 0.1}\n"
     ]
    }
   ],
   "source": [
    "from sklearn.model_selection import GridSearchCV\n",
    "ridge = Ridge()\n",
    "ridge_params = {'alpha' :  [0.001,0.01,0.1,10,100]}\n",
    "grid = GridSearchCV(estimator = ridge, param_grid = ridge_params, scoring = 'neg_mean_absolute_error')\n",
    "\n",
    "grid.fit(tr,train_target)\n",
    "best_param = grid.best_params_\n",
    "print(best_param)"
   ]
  },
  {
   "cell_type": "code",
   "execution_count": 214,
   "metadata": {},
   "outputs": [
    {
     "data": {
      "text/plain": [
       "{'fit_time': array([0.00797868, 0.01097083, 0.00498462, 0.00695014, 0.00399017]),\n",
       " 'score_time': array([0.00299191, 0.00498748, 0.00299263, 0.0039885 , 0.00398803]),\n",
       " 'test_score': array([-232.27568338, -320.48455606, -267.20891913, -206.85580832,\n",
       "        -260.75805154])}"
      ]
     },
     "execution_count": 214,
     "metadata": {},
     "output_type": "execute_result"
    }
   ],
   "source": [
    "from sklearn.model_selection import cross_validate\n",
    "rid = Ridge(alpha=0.1)\n",
    "scores = cross_validate(rid,tr,train_target,scoring='neg_mean_absolute_error')\n",
    "scores"
   ]
  },
  {
   "cell_type": "markdown",
   "metadata": {},
   "source": [
    "#### 결과 "
   ]
  },
  {
   "cell_type": "code",
   "execution_count": 215,
   "metadata": {},
   "outputs": [
    {
     "data": {
      "text/plain": [
       "257.516603685495"
      ]
     },
     "execution_count": 215,
     "metadata": {},
     "output_type": "execute_result"
    }
   ],
   "source": [
    "np.mean(scores['test_score'])*(-1) "
   ]
  },
  {
   "cell_type": "markdown",
   "metadata": {},
   "source": [
    "### 릿지 회귀 (정규화 o)"
   ]
  },
  {
   "cell_type": "code",
   "execution_count": 216,
   "metadata": {},
   "outputs": [],
   "source": [
    "from sklearn.preprocessing import PolynomialFeatures\n",
    "poly = PolynomialFeatures(include_bias=False)\n",
    "poly.fit(tr)\n",
    "tr_poly = poly.transform(tr)\n",
    "te_poly =  poly.transform(te)\n",
    "\n",
    "from sklearn.preprocessing import StandardScaler\n",
    "ss = StandardScaler()\n",
    "ss.fit(tr_poly)\n",
    "train_scaled = ss.transform(tr_poly)\n",
    "test_scaled = ss.transform(te_poly)"
   ]
  },
  {
   "cell_type": "code",
   "execution_count": 217,
   "metadata": {},
   "outputs": [
    {
     "name": "stdout",
     "output_type": "stream",
     "text": [
      "0.8843329819225794\n"
     ]
    }
   ],
   "source": [
    "from sklearn.linear_model import Ridge\n",
    "ridge = Ridge()\n",
    "ridge.fit(train_scaled,train_target)\n",
    "print(ridge.score(train_scaled,train_target))"
   ]
  },
  {
   "cell_type": "code",
   "execution_count": 218,
   "metadata": {},
   "outputs": [],
   "source": [
    "# # 파라미터 튜닝 방법 1\n",
    "# train_score = []\n",
    "# test_score = []\n",
    "# # alpha_list = [0.001,0.01,0.1,10,100]\n",
    "# # for alpha in alpha_list : \n",
    "# #     ridge = Ridge(alpha=alpha)\n",
    "# #     ridge.fit(train_scaled,train_target)\n",
    "    \n",
    "# # train_score.append(ridge.score(train_scaled,train_target))"
   ]
  },
  {
   "cell_type": "code",
   "execution_count": 219,
   "metadata": {},
   "outputs": [
    {
     "name": "stdout",
     "output_type": "stream",
     "text": [
      "{'alpha': 100}\n"
     ]
    }
   ],
   "source": [
    "# 파라미터 튜닝 방법 2\n",
    "from sklearn.model_selection import GridSearchCV\n",
    "ridge = Ridge()\n",
    "ridge_params = {'alpha' :  [0.001,0.01,0.1,10,100]}\n",
    "grid = GridSearchCV(estimator = ridge, param_grid = ridge_params, scoring = 'neg_mean_absolute_error')\n",
    "\n",
    "grid.fit(train_scaled,train_target)\n",
    "best_param = grid.best_params_\n",
    "print(best_param)"
   ]
  },
  {
   "cell_type": "code",
   "execution_count": 224,
   "metadata": {},
   "outputs": [
    {
     "data": {
      "text/plain": [
       "{'fit_time': array([0.0029943 , 0.0029943 , 0.00398684, 0.00299144, 0.00299811]),\n",
       " 'score_time': array([0.00199413, 0.00099659, 0.00100756, 0.        , 0.00099564]),\n",
       " 'test_score': array([-248.16868677, -288.8785433 , -255.72104278, -148.10280045,\n",
       "        -258.07419479])}"
      ]
     },
     "execution_count": 224,
     "metadata": {},
     "output_type": "execute_result"
    }
   ],
   "source": [
    "from sklearn.model_selection import cross_validate\n",
    "rid_ss = Ridge(alpha=100)\n",
    "scores = cross_validate(rid_ss,train_scaled,train_target,scoring='neg_mean_absolute_error')\n",
    "scores"
   ]
  },
  {
   "cell_type": "markdown",
   "metadata": {},
   "source": [
    "#### 결과 "
   ]
  },
  {
   "cell_type": "code",
   "execution_count": 225,
   "metadata": {},
   "outputs": [
    {
     "data": {
      "text/plain": [
       "239.78905361807628"
      ]
     },
     "execution_count": 225,
     "metadata": {},
     "output_type": "execute_result"
    }
   ],
   "source": [
    "np.mean(scores['test_score'])*(-1) "
   ]
  },
  {
   "cell_type": "markdown",
   "metadata": {},
   "source": [
    "#### 제출 "
   ]
  },
  {
   "cell_type": "code",
   "execution_count": 226,
   "metadata": {},
   "outputs": [],
   "source": [
    "submission = pd.read_csv('sample_submission.csv') "
   ]
  },
  {
   "cell_type": "code",
   "execution_count": 228,
   "metadata": {},
   "outputs": [],
   "source": [
    "rid_ss.fit(tr,train_target)\n",
    "\n",
    "pre = rid_ss.predict(te)\n",
    "submission['Body Mass (g)'] = pre\n",
    "submission.to_csv('4_submission.csv', index=False)"
   ]
  },
  {
   "cell_type": "markdown",
   "metadata": {},
   "source": [
    "### xgb (정규화 x)"
   ]
  },
  {
   "cell_type": "code",
   "execution_count": 61,
   "metadata": {},
   "outputs": [],
   "source": [
    "import xgboost as xgb\n",
    "from xgboost import XGBRegressor, plot_tree, plot_importance\n",
    "from sklearn.model_selection import cross_validate"
   ]
  },
  {
   "cell_type": "code",
   "execution_count": 204,
   "metadata": {},
   "outputs": [
    {
     "name": "stdout",
     "output_type": "stream",
     "text": [
      "{'learning_rate': 0.2, 'max_depth': 3, 'n_estimators': 20}\n"
     ]
    }
   ],
   "source": [
    "from sklearn.model_selection import GridSearchCV\n",
    "reg_cv = XGBRegressor()\n",
    "xgb_params = {'max_depth' : [3,4, 5, 6],\n",
    "              'n_estimators' : [10, 20, 50, 100, 500,1000],\n",
    "              'learning_rate' : [0.1, 0.2, 0.4, 0.6, 0.8, 1]}\n",
    "grid = GridSearchCV(estimator = reg_cv, param_grid = xgb_params, scoring = 'neg_mean_absolute_error')\n",
    "\n",
    "grid.fit(tr, train_target)\n",
    "best_param = grid.best_params_\n",
    "print(best_param)"
   ]
  },
  {
   "cell_type": "code",
   "execution_count": 206,
   "metadata": {},
   "outputs": [
    {
     "data": {
      "text/plain": [
       "{'fit_time': array([0.04387879, 0.04587722, 0.05285454, 0.04587626, 0.04587817]),\n",
       " 'score_time': array([0.01196957, 0.01296782, 0.01396298, 0.01396346, 0.01396322]),\n",
       " 'test_score': array([-241.39672852, -262.33987559, -298.51287576, -199.44950535,\n",
       "        -309.11304821])}"
      ]
     },
     "execution_count": 206,
     "metadata": {},
     "output_type": "execute_result"
    }
   ],
   "source": [
    "reg = XGBRegressor(max_depth = 3, n_estimators = 20, learning_rate = 0.2 )\n",
    "scores = cross_validate(reg,tr, train_target,scoring='neg_mean_absolute_error')\n",
    "scores"
   ]
  },
  {
   "cell_type": "markdown",
   "metadata": {},
   "source": [
    "#### 결과 "
   ]
  },
  {
   "cell_type": "code",
   "execution_count": 207,
   "metadata": {
    "scrolled": false
   },
   "outputs": [
    {
     "data": {
      "text/plain": [
       "262.1624066861722"
      ]
     },
     "execution_count": 207,
     "metadata": {},
     "output_type": "execute_result"
    }
   ],
   "source": [
    "np.mean(scores['test_score'])*(-1) "
   ]
  },
  {
   "cell_type": "markdown",
   "metadata": {},
   "source": [
    "#### 제출 "
   ]
  },
  {
   "cell_type": "code",
   "execution_count": 208,
   "metadata": {},
   "outputs": [],
   "source": [
    "reg.fit(tr,train_target)\n",
    "pre = reg.predict(te) "
   ]
  },
  {
   "cell_type": "code",
   "execution_count": 209,
   "metadata": {},
   "outputs": [],
   "source": [
    "submission = pd.read_csv('sample_submission.csv') # submission 파일 불러오기\n",
    "submission['Body Mass (g)'] = pre\n",
    "submission.to_csv('second_submission.csv', index=False)"
   ]
  },
  {
   "cell_type": "markdown",
   "metadata": {},
   "source": [
    "### xgb (정규화 O)"
   ]
  },
  {
   "cell_type": "code",
   "execution_count": 229,
   "metadata": {},
   "outputs": [
    {
     "name": "stdout",
     "output_type": "stream",
     "text": [
      "{'learning_rate': 0.2, 'max_depth': 6, 'n_estimators': 50}\n"
     ]
    }
   ],
   "source": [
    "reg_cv = XGBRegressor()\n",
    "xgb_params = {'max_depth' : [3,4, 5, 6],\n",
    "              'n_estimators' : [10, 20, 50, 100, 500,1000],\n",
    "              'learning_rate' : [0.1, 0.2, 0.4, 0.6, 0.8, 1]}\n",
    "grid = GridSearchCV(estimator = reg_cv, param_grid = xgb_params, scoring = 'neg_mean_absolute_error')\n",
    "\n",
    "grid.fit(train_scaled,train_target)\n",
    "best_param = grid.best_params_\n",
    "print(best_param)"
   ]
  },
  {
   "cell_type": "code",
   "execution_count": 231,
   "metadata": {},
   "outputs": [
    {
     "data": {
      "text/plain": [
       "{'fit_time': array([0.18945956, 0.1396246 , 0.13962603, 0.15259027, 0.14959788]),\n",
       " 'score_time': array([0.01097131, 0.00797606, 0.00897765, 0.00997448, 0.01097155]),\n",
       " 'test_score': array([-243.81082286, -304.71299677, -283.96509851, -198.28843623,\n",
       "        -309.89559659])}"
      ]
     },
     "execution_count": 231,
     "metadata": {},
     "output_type": "execute_result"
    }
   ],
   "source": [
    "reg = XGBRegressor(max_depth = 6, n_estimators = 50, learning_rate = 0.2 )\n",
    "scores = cross_validate(reg,train_scaled, train_target,scoring='neg_mean_absolute_error')\n",
    "scores"
   ]
  },
  {
   "cell_type": "markdown",
   "metadata": {},
   "source": [
    "#### 결과 "
   ]
  },
  {
   "cell_type": "code",
   "execution_count": 232,
   "metadata": {},
   "outputs": [
    {
     "data": {
      "text/plain": [
       "268.13459019114373"
      ]
     },
     "execution_count": 232,
     "metadata": {},
     "output_type": "execute_result"
    }
   ],
   "source": [
    "np.mean(scores['test_score'])*(-1) "
   ]
  },
  {
   "cell_type": "markdown",
   "metadata": {},
   "source": [
    "#  (By group) Building machine learning model¶"
   ]
  },
  {
   "cell_type": "markdown",
   "metadata": {},
   "source": [
    "## 그룹별 변수 제작"
   ]
  },
  {
   "cell_type": "code",
   "execution_count": 195,
   "metadata": {},
   "outputs": [
    {
     "name": "stdout",
     "output_type": "stream",
     "text": [
      "[ True  True]\n",
      "[ True  True]\n",
      "[ True]\n"
     ]
    }
   ],
   "source": [
    "tr_2 = train[train['Island'] == 'Biscoe']\n",
    "te_2 = test[test['Island'] == 'Biscoe']\n",
    "print(tr_2['Species'].unique()==te_2['Species'].unique())\n",
    "tr_3 = train[train['Island'] == 'Dream']\n",
    "te_3 = test[test['Island'] == 'Dream']\n",
    "print(tr_3['Species'].unique()==te_3['Species'].unique())\n",
    "tr_4 = train[train['Island'] == 'Torgersen']\n",
    "te_4 = test[test['Island'] == 'Torgersen']\n",
    "print(tr_4['Species'].unique()==te_4['Species'].unique())\n",
    "            "
   ]
  },
  {
   "cell_type": "code",
   "execution_count": 196,
   "metadata": {},
   "outputs": [],
   "source": [
    "# 그룹별 train set 제작\n",
    "tr_Biscoe = train[train['Island'] == \"Biscoe\"]\n",
    "tr_Biscoe = tr_Biscoe.drop('Island', axis=1)\n",
    "tr_Biscoe = pd.get_dummies(tr_Biscoe)\n",
    "\n",
    "tr_Dream = train[train['Island'] == \"Dream\"]\n",
    "tr_Dream = tr_Dream.drop('Island', axis=1)\n",
    "tr_Dream = pd.get_dummies(tr_Dream)\n",
    "\n",
    "tr_Torgersen = train[train['Island'] == \"Torgersen\"]\n",
    "tr_Torgersen = tr_Torgersen.drop('Island', axis=1)\n",
    "tr_Torgersen = pd.get_dummies(tr_Torgersen)"
   ]
  },
  {
   "cell_type": "code",
   "execution_count": 197,
   "metadata": {},
   "outputs": [],
   "source": [
    "# 그룹별 test set 제작\n",
    "te_Biscoe = test[test['Island'] == \"Biscoe\"]\n",
    "te_Biscoe = te_Biscoe.drop('Island', axis=1)\n",
    "te_Biscoe = pd.get_dummies(te_Biscoe)\n",
    "\n",
    "te_Dream = test[test['Island'] == \"Dream\"]\n",
    "te_Dream = te_Dream.drop('Island', axis=1)\n",
    "te_Dream = pd.get_dummies(te_Dream)\n",
    "\n",
    "te_Torgersen = test[test['Island'] == \"Torgersen\"]\n",
    "te_Torgersen = te_Torgersen.drop('Island', axis=1)\n",
    "te_Torgersen = pd.get_dummies(te_Torgersen)"
   ]
  },
  {
   "cell_type": "code",
   "execution_count": 198,
   "metadata": {},
   "outputs": [
    {
     "data": {
      "text/html": [
       "<div>\n",
       "<style scoped>\n",
       "    .dataframe tbody tr th:only-of-type {\n",
       "        vertical-align: middle;\n",
       "    }\n",
       "\n",
       "    .dataframe tbody tr th {\n",
       "        vertical-align: top;\n",
       "    }\n",
       "\n",
       "    .dataframe thead th {\n",
       "        text-align: right;\n",
       "    }\n",
       "</style>\n",
       "<table border=\"1\" class=\"dataframe\">\n",
       "  <thead>\n",
       "    <tr style=\"text-align: right;\">\n",
       "      <th></th>\n",
       "      <th>Culmen Length (mm)</th>\n",
       "      <th>Culmen Depth (mm)</th>\n",
       "      <th>Flipper Length (mm)</th>\n",
       "      <th>Delta 15 N (o/oo)</th>\n",
       "      <th>Delta 13 C (o/oo)</th>\n",
       "      <th>Body Mass (g)</th>\n",
       "      <th>Species_Adelie Penguin (Pygoscelis adeliae)</th>\n",
       "      <th>Species_Gentoo penguin (Pygoscelis papua)</th>\n",
       "      <th>Sex_FEMALE</th>\n",
       "      <th>Sex_MALE</th>\n",
       "    </tr>\n",
       "  </thead>\n",
       "  <tbody>\n",
       "    <tr>\n",
       "      <th>0</th>\n",
       "      <td>50.0</td>\n",
       "      <td>15.3</td>\n",
       "      <td>220</td>\n",
       "      <td>8.30515</td>\n",
       "      <td>-25.19017</td>\n",
       "      <td>5550</td>\n",
       "      <td>0</td>\n",
       "      <td>1</td>\n",
       "      <td>0</td>\n",
       "      <td>1</td>\n",
       "    </tr>\n",
       "    <tr>\n",
       "      <th>2</th>\n",
       "      <td>45.1</td>\n",
       "      <td>14.4</td>\n",
       "      <td>210</td>\n",
       "      <td>8.51951</td>\n",
       "      <td>-27.01854</td>\n",
       "      <td>4400</td>\n",
       "      <td>0</td>\n",
       "      <td>1</td>\n",
       "      <td>1</td>\n",
       "      <td>0</td>\n",
       "    </tr>\n",
       "    <tr>\n",
       "      <th>3</th>\n",
       "      <td>44.5</td>\n",
       "      <td>14.7</td>\n",
       "      <td>214</td>\n",
       "      <td>8.20106</td>\n",
       "      <td>-26.16524</td>\n",
       "      <td>4850</td>\n",
       "      <td>0</td>\n",
       "      <td>1</td>\n",
       "      <td>1</td>\n",
       "      <td>0</td>\n",
       "    </tr>\n",
       "    <tr>\n",
       "      <th>4</th>\n",
       "      <td>49.6</td>\n",
       "      <td>16.0</td>\n",
       "      <td>225</td>\n",
       "      <td>8.38324</td>\n",
       "      <td>-26.84272</td>\n",
       "      <td>5700</td>\n",
       "      <td>0</td>\n",
       "      <td>1</td>\n",
       "      <td>0</td>\n",
       "      <td>1</td>\n",
       "    </tr>\n",
       "    <tr>\n",
       "      <th>5</th>\n",
       "      <td>51.1</td>\n",
       "      <td>16.5</td>\n",
       "      <td>225</td>\n",
       "      <td>8.20660</td>\n",
       "      <td>-26.36863</td>\n",
       "      <td>5250</td>\n",
       "      <td>0</td>\n",
       "      <td>1</td>\n",
       "      <td>0</td>\n",
       "      <td>1</td>\n",
       "    </tr>\n",
       "  </tbody>\n",
       "</table>\n",
       "</div>"
      ],
      "text/plain": [
       "   Culmen Length (mm)  Culmen Depth (mm)  Flipper Length (mm)  \\\n",
       "0                50.0               15.3                  220   \n",
       "2                45.1               14.4                  210   \n",
       "3                44.5               14.7                  214   \n",
       "4                49.6               16.0                  225   \n",
       "5                51.1               16.5                  225   \n",
       "\n",
       "   Delta 15 N (o/oo)  Delta 13 C (o/oo)  Body Mass (g)  \\\n",
       "0            8.30515          -25.19017           5550   \n",
       "2            8.51951          -27.01854           4400   \n",
       "3            8.20106          -26.16524           4850   \n",
       "4            8.38324          -26.84272           5700   \n",
       "5            8.20660          -26.36863           5250   \n",
       "\n",
       "   Species_Adelie Penguin (Pygoscelis adeliae)  \\\n",
       "0                                            0   \n",
       "2                                            0   \n",
       "3                                            0   \n",
       "4                                            0   \n",
       "5                                            0   \n",
       "\n",
       "   Species_Gentoo penguin (Pygoscelis papua)  Sex_FEMALE  Sex_MALE  \n",
       "0                                          1           0         1  \n",
       "2                                          1           1         0  \n",
       "3                                          1           1         0  \n",
       "4                                          1           0         1  \n",
       "5                                          1           0         1  "
      ]
     },
     "execution_count": 198,
     "metadata": {},
     "output_type": "execute_result"
    }
   ],
   "source": [
    "tr_Biscoe.head()"
   ]
  },
  {
   "cell_type": "code",
   "execution_count": 199,
   "metadata": {},
   "outputs": [
    {
     "data": {
      "text/html": [
       "<div>\n",
       "<style scoped>\n",
       "    .dataframe tbody tr th:only-of-type {\n",
       "        vertical-align: middle;\n",
       "    }\n",
       "\n",
       "    .dataframe tbody tr th {\n",
       "        vertical-align: top;\n",
       "    }\n",
       "\n",
       "    .dataframe thead th {\n",
       "        text-align: right;\n",
       "    }\n",
       "</style>\n",
       "<table border=\"1\" class=\"dataframe\">\n",
       "  <thead>\n",
       "    <tr style=\"text-align: right;\">\n",
       "      <th></th>\n",
       "      <th>id</th>\n",
       "      <th>Culmen Length (mm)</th>\n",
       "      <th>Culmen Depth (mm)</th>\n",
       "      <th>Flipper Length (mm)</th>\n",
       "      <th>Delta 15 N (o/oo)</th>\n",
       "      <th>Delta 13 C (o/oo)</th>\n",
       "      <th>Species_Adelie Penguin (Pygoscelis adeliae)</th>\n",
       "      <th>Species_Gentoo penguin (Pygoscelis papua)</th>\n",
       "      <th>Sex_FEMALE</th>\n",
       "      <th>Sex_MALE</th>\n",
       "    </tr>\n",
       "  </thead>\n",
       "  <tbody>\n",
       "    <tr>\n",
       "      <th>1</th>\n",
       "      <td>1</td>\n",
       "      <td>55.9</td>\n",
       "      <td>17.0</td>\n",
       "      <td>228.0</td>\n",
       "      <td>8.31180</td>\n",
       "      <td>-26.35425</td>\n",
       "      <td>0</td>\n",
       "      <td>1</td>\n",
       "      <td>0</td>\n",
       "      <td>1</td>\n",
       "    </tr>\n",
       "    <tr>\n",
       "      <th>4</th>\n",
       "      <td>4</td>\n",
       "      <td>37.9</td>\n",
       "      <td>18.6</td>\n",
       "      <td>172.0</td>\n",
       "      <td>8.38404</td>\n",
       "      <td>-25.19837</td>\n",
       "      <td>1</td>\n",
       "      <td>0</td>\n",
       "      <td>1</td>\n",
       "      <td>0</td>\n",
       "    </tr>\n",
       "    <tr>\n",
       "      <th>6</th>\n",
       "      <td>6</td>\n",
       "      <td>44.0</td>\n",
       "      <td>13.6</td>\n",
       "      <td>208.0</td>\n",
       "      <td>8.01979</td>\n",
       "      <td>-26.68311</td>\n",
       "      <td>0</td>\n",
       "      <td>1</td>\n",
       "      <td>1</td>\n",
       "      <td>0</td>\n",
       "    </tr>\n",
       "    <tr>\n",
       "      <th>7</th>\n",
       "      <td>7</td>\n",
       "      <td>48.4</td>\n",
       "      <td>14.6</td>\n",
       "      <td>213.0</td>\n",
       "      <td>7.82080</td>\n",
       "      <td>-25.48025</td>\n",
       "      <td>0</td>\n",
       "      <td>1</td>\n",
       "      <td>0</td>\n",
       "      <td>1</td>\n",
       "    </tr>\n",
       "    <tr>\n",
       "      <th>8</th>\n",
       "      <td>8</td>\n",
       "      <td>47.2</td>\n",
       "      <td>13.7</td>\n",
       "      <td>214.0</td>\n",
       "      <td>7.99184</td>\n",
       "      <td>-26.20538</td>\n",
       "      <td>0</td>\n",
       "      <td>1</td>\n",
       "      <td>1</td>\n",
       "      <td>0</td>\n",
       "    </tr>\n",
       "  </tbody>\n",
       "</table>\n",
       "</div>"
      ],
      "text/plain": [
       "   id  Culmen Length (mm)  Culmen Depth (mm)  Flipper Length (mm)  \\\n",
       "1   1                55.9               17.0                228.0   \n",
       "4   4                37.9               18.6                172.0   \n",
       "6   6                44.0               13.6                208.0   \n",
       "7   7                48.4               14.6                213.0   \n",
       "8   8                47.2               13.7                214.0   \n",
       "\n",
       "   Delta 15 N (o/oo)  Delta 13 C (o/oo)  \\\n",
       "1            8.31180          -26.35425   \n",
       "4            8.38404          -25.19837   \n",
       "6            8.01979          -26.68311   \n",
       "7            7.82080          -25.48025   \n",
       "8            7.99184          -26.20538   \n",
       "\n",
       "   Species_Adelie Penguin (Pygoscelis adeliae)  \\\n",
       "1                                            0   \n",
       "4                                            1   \n",
       "6                                            0   \n",
       "7                                            0   \n",
       "8                                            0   \n",
       "\n",
       "   Species_Gentoo penguin (Pygoscelis papua)  Sex_FEMALE  Sex_MALE  \n",
       "1                                          1           0         1  \n",
       "4                                          0           1         0  \n",
       "6                                          1           1         0  \n",
       "7                                          1           0         1  \n",
       "8                                          1           1         0  "
      ]
     },
     "execution_count": 199,
     "metadata": {},
     "output_type": "execute_result"
    }
   ],
   "source": [
    "te_Biscoe.head()"
   ]
  },
  {
   "cell_type": "code",
   "execution_count": 200,
   "metadata": {},
   "outputs": [],
   "source": [
    "trB_target = tr_Biscoe['Body Mass (g)']\n",
    "tr_Biscoe = tr_Biscoe.drop('Body Mass (g)', axis=1)\n",
    "\n",
    "trD_target = tr_Dream['Body Mass (g)']\n",
    "tr_Dream = tr_Dream.drop('Body Mass (g)', axis=1)\n",
    "\n",
    "trT_target = tr_Torgersen['Body Mass (g)']\n",
    "tr_Torgersen = tr_Torgersen.drop('Body Mass (g)', axis=1)"
   ]
  },
  {
   "cell_type": "code",
   "execution_count": 201,
   "metadata": {},
   "outputs": [],
   "source": [
    "Biscoe_id = te_Biscoe['id']\n",
    "Dream_id = te_Dream['id']\n",
    "Torgerson_id = te_Torgersen['id']\n",
    "te_Biscoe = te_Biscoe.drop('id', axis=1)\n",
    "te_Dream = te_Dream.drop('id', axis=1)\n",
    "te_Torgersen = te_Torgersen.drop('id', axis=1)"
   ]
  },
  {
   "cell_type": "code",
   "execution_count": 202,
   "metadata": {},
   "outputs": [],
   "source": [
    "# trD_target"
   ]
  },
  {
   "cell_type": "markdown",
   "metadata": {},
   "source": [
    "## 그룹별 적합"
   ]
  },
  {
   "cell_type": "markdown",
   "metadata": {},
   "source": [
    "### XGB (정규화 X)"
   ]
  },
  {
   "cell_type": "markdown",
   "metadata": {},
   "source": [
    "#### BISCOE"
   ]
  },
  {
   "cell_type": "code",
   "execution_count": 233,
   "metadata": {},
   "outputs": [
    {
     "name": "stdout",
     "output_type": "stream",
     "text": [
      "{'learning_rate': 0.6, 'max_depth': 3, 'n_estimators': 10}\n"
     ]
    }
   ],
   "source": [
    "from sklearn.model_selection import GridSearchCV\n",
    "reg_cv = XGBRegressor()\n",
    "xgb_params = {'max_depth' : [3,4, 5, 6],\n",
    "              'n_estimators' : [10, 20, 50, 100, 500,1000],\n",
    "              'learning_rate' : [0.1, 0.2, 0.4, 0.6, 0.8, 1]}\n",
    "grid = GridSearchCV(estimator = reg_cv, param_grid = xgb_params, scoring = 'neg_mean_absolute_error')\n",
    "\n",
    "grid.fit(tr_Biscoe, trB_target)\n",
    "best_param = grid.best_params_\n",
    "print(best_param)"
   ]
  },
  {
   "cell_type": "code",
   "execution_count": 234,
   "metadata": {},
   "outputs": [
    {
     "data": {
      "text/plain": [
       "{'fit_time': array([0.04886293, 0.04687262, 0.0428853 , 0.04388261, 0.04388213]),\n",
       " 'score_time': array([0.01595807, 0.01296544, 0.01296926, 0.01296425, 0.01296401]),\n",
       " 'test_score': array([-185.24153646, -304.80941495, -326.62051669, -256.95525568,\n",
       "        -334.16184304])}"
      ]
     },
     "execution_count": 234,
     "metadata": {},
     "output_type": "execute_result"
    }
   ],
   "source": [
    "reg_B = XGBRegressor(max_depth = 3, n_estimators = 10, learning_rate = 0.6 )\n",
    "scores = cross_validate(reg,tr_Biscoe, trB_target,scoring='neg_mean_absolute_error')\n",
    "scores"
   ]
  },
  {
   "cell_type": "code",
   "execution_count": 235,
   "metadata": {},
   "outputs": [
    {
     "data": {
      "text/plain": [
       "281.5577133641099"
      ]
     },
     "execution_count": 235,
     "metadata": {},
     "output_type": "execute_result"
    }
   ],
   "source": [
    "np.mean(scores['test_score'])*(-1) "
   ]
  },
  {
   "cell_type": "markdown",
   "metadata": {},
   "source": [
    "#### DREAM"
   ]
  },
  {
   "cell_type": "code",
   "execution_count": 290,
   "metadata": {},
   "outputs": [
    {
     "name": "stdout",
     "output_type": "stream",
     "text": [
      "{'learning_rate': 0.2, 'max_depth': 5, 'n_estimators': 20}\n"
     ]
    }
   ],
   "source": [
    "from sklearn.model_selection import GridSearchCV\n",
    "reg_cv = XGBRegressor()\n",
    "xgb_params = {'max_depth' : [3,4, 5, 6],\n",
    "              'n_estimators' : [10, 20, 50, 100, 500,1000],\n",
    "              'learning_rate' : [0.1, 0.2, 0.4, 0.6, 0.8, 1]}\n",
    "grid = GridSearchCV(estimator = reg_cv, param_grid = xgb_params, scoring = 'neg_mean_absolute_error')\n",
    "\n",
    "grid.fit(tr_Dream, trD_target)\n",
    "best_param = grid.best_params_\n",
    "print(best_param)"
   ]
  },
  {
   "cell_type": "code",
   "execution_count": 292,
   "metadata": {},
   "outputs": [
    {
     "data": {
      "text/plain": [
       "{'fit_time': array([0.12167406, 0.04587746, 0.04388189, 0.06981444, 0.05385184]),\n",
       " 'score_time': array([0.01396322, 0.01396322, 0.014961  , 0.01495934, 0.01894999]),\n",
       " 'test_score': array([-333.55981445, -419.5089247 , -198.38300239, -331.92092556,\n",
       "        -317.40377808])}"
      ]
     },
     "execution_count": 292,
     "metadata": {},
     "output_type": "execute_result"
    }
   ],
   "source": [
    "reg_D = XGBRegressor(max_depth = 5, n_estimators = 20, learning_rate = 0.2 )\n",
    "scores = cross_validate(reg,tr_Dream, trD_target,scoring='neg_mean_absolute_error')\n",
    "scores"
   ]
  },
  {
   "cell_type": "code",
   "execution_count": 293,
   "metadata": {
    "scrolled": true
   },
   "outputs": [
    {
     "data": {
      "text/plain": [
       "320.15528903537324"
      ]
     },
     "execution_count": 293,
     "metadata": {},
     "output_type": "execute_result"
    }
   ],
   "source": [
    "np.mean(scores['test_score'])*(-1) "
   ]
  },
  {
   "cell_type": "markdown",
   "metadata": {},
   "source": [
    "#### Torgersen"
   ]
  },
  {
   "cell_type": "code",
   "execution_count": 294,
   "metadata": {},
   "outputs": [
    {
     "name": "stdout",
     "output_type": "stream",
     "text": [
      "{'learning_rate': 0.4, 'max_depth': 3, 'n_estimators': 10}\n"
     ]
    }
   ],
   "source": [
    "from sklearn.model_selection import GridSearchCV\n",
    "reg_cv = XGBRegressor()\n",
    "xgb_params = {'max_depth' : [3,4, 5, 6],\n",
    "              'n_estimators' : [10, 20, 50, 100, 500,1000],\n",
    "              'learning_rate' : [0.1, 0.2, 0.4, 0.6, 0.8, 1]}\n",
    "grid = GridSearchCV(estimator = reg_cv, param_grid = xgb_params, scoring = 'neg_mean_absolute_error')\n",
    "\n",
    "grid.fit(tr_Torgersen, trT_target)\n",
    "best_param = grid.best_params_\n",
    "print(best_param)"
   ]
  },
  {
   "cell_type": "code",
   "execution_count": 295,
   "metadata": {},
   "outputs": [
    {
     "data": {
      "text/plain": [
       "{'fit_time': array([0.0638473 , 0.04388022, 0.04188681, 0.03690195, 0.0398922 ]),\n",
       " 'score_time': array([0.01195145, 0.01296496, 0.0129683 , 0.01096916, 0.01196861]),\n",
       " 'test_score': array([-177.41194661,  -24.35437012, -648.82092285, -186.93701172,\n",
       "        -285.953125  ])}"
      ]
     },
     "execution_count": 295,
     "metadata": {},
     "output_type": "execute_result"
    }
   ],
   "source": [
    "reg_T = XGBRegressor(max_depth = 3, n_estimators = 10, learning_rate = 0.4)\n",
    "scores = cross_validate(reg,tr_Torgersen, trT_target,scoring='neg_mean_absolute_error')\n",
    "scores"
   ]
  },
  {
   "cell_type": "code",
   "execution_count": 296,
   "metadata": {},
   "outputs": [
    {
     "data": {
      "text/plain": [
       "264.6954752604167"
      ]
     },
     "execution_count": 296,
     "metadata": {},
     "output_type": "execute_result"
    }
   ],
   "source": [
    "np.mean(scores['test_score'])*(-1) "
   ]
  },
  {
   "cell_type": "markdown",
   "metadata": {},
   "source": [
    "#### 결과 "
   ]
  },
  {
   "cell_type": "code",
   "execution_count": 392,
   "metadata": {},
   "outputs": [
    {
     "data": {
      "text/plain": [
       "288.8028258866333"
      ]
     },
     "execution_count": 392,
     "metadata": {},
     "output_type": "execute_result"
    }
   ],
   "source": [
    "(264.6954752604167+320.15528903537324+281.5577133641099)/3"
   ]
  },
  {
   "cell_type": "markdown",
   "metadata": {},
   "source": [
    "### 릿지 (정규화 X)"
   ]
  },
  {
   "cell_type": "markdown",
   "metadata": {},
   "source": [
    "#### BISCOE"
   ]
  },
  {
   "cell_type": "code",
   "execution_count": 87,
   "metadata": {},
   "outputs": [
    {
     "name": "stdout",
     "output_type": "stream",
     "text": [
      "{'alpha': 0.1}\n"
     ]
    }
   ],
   "source": [
    "# SS 없음\n",
    "from sklearn.model_selection import GridSearchCV\n",
    "ridge = Ridge()\n",
    "ridge_params = {'alpha' :  [0.001,0.01,0.1,10,100]}\n",
    "grid = GridSearchCV(estimator = ridge, param_grid = ridge_params, scoring = 'neg_mean_absolute_error')\n",
    "\n",
    "grid.fit(tr_Biscoe, trB_target)\n",
    "best_param = grid.best_params_\n",
    "print(best_param)"
   ]
  },
  {
   "cell_type": "code",
   "execution_count": 89,
   "metadata": {},
   "outputs": [
    {
     "data": {
      "text/plain": [
       "{'fit_time': array([0.00698161, 0.00594997, 0.00499558, 0.00797868, 0.00595355]),\n",
       " 'score_time': array([0.00498676, 0.00399089, 0.00498152, 0.00398993, 0.00299191]),\n",
       " 'test_score': array([-208.67169126, -207.57415388, -225.40062062, -308.7993753 ,\n",
       "        -259.9591879 ])}"
      ]
     },
     "execution_count": 89,
     "metadata": {},
     "output_type": "execute_result"
    }
   ],
   "source": [
    "from sklearn.model_selection import cross_validate\n",
    "rid = Ridge(alpha=0.1)\n",
    "scores = cross_validate(rid,tr_Biscoe, trB_target,scoring='neg_mean_absolute_error')\n",
    "scores"
   ]
  },
  {
   "cell_type": "code",
   "execution_count": 90,
   "metadata": {},
   "outputs": [
    {
     "data": {
      "text/plain": [
       "242.08100579082657"
      ]
     },
     "execution_count": 90,
     "metadata": {},
     "output_type": "execute_result"
    }
   ],
   "source": [
    "np.mean(scores['test_score'])*(-1) "
   ]
  },
  {
   "cell_type": "markdown",
   "metadata": {},
   "source": [
    "#### DREAM"
   ]
  },
  {
   "cell_type": "code",
   "execution_count": 93,
   "metadata": {},
   "outputs": [
    {
     "name": "stdout",
     "output_type": "stream",
     "text": [
      "{'alpha': 10}\n"
     ]
    }
   ],
   "source": [
    "# SS 없음\n",
    "from sklearn.model_selection import GridSearchCV\n",
    "ridge = Ridge()\n",
    "ridge_params = {'alpha' :  [0.001,0.01,0.1,10,100]}\n",
    "grid = GridSearchCV(estimator = ridge, param_grid = ridge_params, scoring = 'neg_mean_absolute_error')\n",
    "\n",
    "grid.fit(tr_Dream, trD_target)\n",
    "best_param = grid.best_params_\n",
    "print(best_param)"
   ]
  },
  {
   "cell_type": "code",
   "execution_count": 94,
   "metadata": {},
   "outputs": [
    {
     "data": {
      "text/plain": [
       "{'fit_time': array([0.00698876, 0.00498581, 0.00399423, 0.00498796, 0.00701356]),\n",
       " 'score_time': array([0.00398135, 0.00402474, 0.00298882, 0.0049839 , 0.00598335]),\n",
       " 'test_score': array([-292.29798099, -421.06633987, -257.91983353, -212.93316976,\n",
       "        -297.44876671])}"
      ]
     },
     "execution_count": 94,
     "metadata": {},
     "output_type": "execute_result"
    }
   ],
   "source": [
    "from sklearn.model_selection import cross_validate\n",
    "rid = Ridge(alpha=10)\n",
    "scores = cross_validate(rid,tr_Dream, trD_target,scoring='neg_mean_absolute_error')\n",
    "scores"
   ]
  },
  {
   "cell_type": "code",
   "execution_count": 95,
   "metadata": {},
   "outputs": [
    {
     "data": {
      "text/plain": [
       "296.3332181720584"
      ]
     },
     "execution_count": 95,
     "metadata": {},
     "output_type": "execute_result"
    }
   ],
   "source": [
    "np.mean(scores['test_score'])*(-1) "
   ]
  },
  {
   "cell_type": "markdown",
   "metadata": {},
   "source": [
    "#### Torgersen"
   ]
  },
  {
   "cell_type": "code",
   "execution_count": 142,
   "metadata": {},
   "outputs": [
    {
     "name": "stdout",
     "output_type": "stream",
     "text": [
      "{'alpha': 10}\n"
     ]
    }
   ],
   "source": [
    "from sklearn.model_selection import GridSearchCV\n",
    "ridge = Ridge()\n",
    "ridge_params = {'alpha' :  [0.001,0.01,0.1,10,100]}\n",
    "grid = GridSearchCV(estimator = ridge, param_grid = ridge_params, scoring = 'neg_mean_absolute_error')\n",
    "\n",
    "grid.fit(tr_Torgersen, trT_target)\n",
    "best_param = grid.best_params_\n",
    "print(best_param)"
   ]
  },
  {
   "cell_type": "code",
   "execution_count": 126,
   "metadata": {},
   "outputs": [
    {
     "data": {
      "text/plain": [
       "{'fit_time': array([0.00698471, 0.00499892, 0.0039866 , 0.00598311, 0.00698304]),\n",
       " 'score_time': array([0.00498343, 0.00298285, 0.00199747, 0.00299144, 0.00498509]),\n",
       " 'test_score': array([-349.35969608, -177.03007843, -403.47383428,  -27.89972   ,\n",
       "        -155.1285502 ])}"
      ]
     },
     "execution_count": 126,
     "metadata": {},
     "output_type": "execute_result"
    }
   ],
   "source": [
    "from sklearn.model_selection import cross_validate\n",
    "rid = Ridge(alpha=10)\n",
    "scores = cross_validate(rid,tr_Torgersen, trT_target,scoring='neg_mean_absolute_error')\n",
    "scores\n",
    "### 편차 너무 큼 ,,, "
   ]
  },
  {
   "cell_type": "code",
   "execution_count": 127,
   "metadata": {},
   "outputs": [
    {
     "data": {
      "text/plain": [
       "222.57837579817934"
      ]
     },
     "execution_count": 127,
     "metadata": {},
     "output_type": "execute_result"
    }
   ],
   "source": [
    "np.mean(scores['test_score'])*(-1) "
   ]
  },
  {
   "cell_type": "markdown",
   "metadata": {},
   "source": [
    "#### 결과 "
   ]
  },
  {
   "cell_type": "code",
   "execution_count": 99,
   "metadata": {},
   "outputs": [
    {
     "data": {
      "text/plain": [
       "261.44344436313946"
      ]
     },
     "execution_count": 99,
     "metadata": {},
     "output_type": "execute_result"
    }
   ],
   "source": [
    "(57*242.08100579082657 +45*296.3332181720584 +12*222.57837579817934)/114"
   ]
  },
  {
   "cell_type": "markdown",
   "metadata": {},
   "source": [
    "### 릿지 (정규화 O)"
   ]
  },
  {
   "cell_type": "markdown",
   "metadata": {},
   "source": [
    "#### BISCOE"
   ]
  },
  {
   "cell_type": "code",
   "execution_count": 235,
   "metadata": {},
   "outputs": [],
   "source": [
    "## SS 있음\n",
    "poly = PolynomialFeatures(include_bias=False)\n",
    "poly.fit(tr_Biscoe)\n",
    "trB_poly = poly.transform(tr_Biscoe)\n",
    "teB_poly =  poly.transform(te_Biscoe)\n",
    "\n",
    "from sklearn.preprocessing import StandardScaler\n",
    "ss = StandardScaler()\n",
    "ss.fit(trB_poly)\n",
    "trB_scaled = ss.transform(trB_poly)\n",
    "teB_scaled = ss.transform(teB_poly)"
   ]
  },
  {
   "cell_type": "code",
   "execution_count": 135,
   "metadata": {},
   "outputs": [
    {
     "name": "stdout",
     "output_type": "stream",
     "text": [
      "{'alpha': 100}\n"
     ]
    }
   ],
   "source": [
    "from sklearn.model_selection import GridSearchCV\n",
    "ridge = Ridge()\n",
    "ridge_params = {'alpha' :  [0.001,0.01,0.1,10,100]}\n",
    "grid = GridSearchCV(estimator = ridge, param_grid = ridge_params, scoring = 'neg_mean_absolute_error')\n",
    "\n",
    "grid.fit(train_scaled, trB_target)\n",
    "best_param = grid.best_params_\n",
    "print(best_param)"
   ]
  },
  {
   "cell_type": "code",
   "execution_count": 237,
   "metadata": {},
   "outputs": [
    {
     "data": {
      "text/plain": [
       "{'fit_time': array([0.00199485, 0.00299287, 0.00199342, 0.00199413, 0.00199533]),\n",
       " 'score_time': array([0.00100112, 0.00099635, 0.00099754, 0.00100827, 0.00099659]),\n",
       " 'test_score': array([-246.52182155, -189.52494831, -250.30585005, -267.72309111,\n",
       "        -219.28817284])}"
      ]
     },
     "execution_count": 237,
     "metadata": {},
     "output_type": "execute_result"
    }
   ],
   "source": [
    "from sklearn.model_selection import cross_validate\n",
    "rid_B = Ridge(alpha=100)\n",
    "scores = cross_validate(rid_B,trB_scaled, trB_target,scoring='neg_mean_absolute_error')\n",
    "scores"
   ]
  },
  {
   "cell_type": "code",
   "execution_count": 137,
   "metadata": {},
   "outputs": [
    {
     "data": {
      "text/plain": [
       "234.67277677344754"
      ]
     },
     "execution_count": 137,
     "metadata": {},
     "output_type": "execute_result"
    }
   ],
   "source": [
    "np.mean(scores['test_score'])*(-1) "
   ]
  },
  {
   "cell_type": "markdown",
   "metadata": {},
   "source": [
    "#### DREAM"
   ]
  },
  {
   "cell_type": "code",
   "execution_count": 238,
   "metadata": {},
   "outputs": [],
   "source": [
    "## SS 있음\n",
    "poly = PolynomialFeatures(include_bias=False)\n",
    "poly.fit(tr_Biscoe)\n",
    "trD_poly = poly.transform(tr_Dream)\n",
    "teD_poly =  poly.transform(te_Dream)\n",
    "\n",
    "from sklearn.preprocessing import StandardScaler\n",
    "ss = StandardScaler()\n",
    "ss.fit(trD_poly)\n",
    "trD_scaled = ss.transform(trD_poly)\n",
    "teD_scaled = ss.transform(teD_poly)"
   ]
  },
  {
   "cell_type": "code",
   "execution_count": 139,
   "metadata": {},
   "outputs": [
    {
     "name": "stdout",
     "output_type": "stream",
     "text": [
      "{'alpha': 100}\n"
     ]
    }
   ],
   "source": [
    "from sklearn.model_selection import GridSearchCV\n",
    "ridge = Ridge()\n",
    "ridge_params = {'alpha' :  [0.001,0.01,0.1,10,100]}\n",
    "grid = GridSearchCV(estimator = ridge, param_grid = ridge_params, scoring = 'neg_mean_absolute_error')\n",
    "\n",
    "grid.fit(train_scaled, trD_target)\n",
    "best_param = grid.best_params_\n",
    "print(best_param)"
   ]
  },
  {
   "cell_type": "code",
   "execution_count": 239,
   "metadata": {},
   "outputs": [
    {
     "data": {
      "text/plain": [
       "{'fit_time': array([0.00195932, 0.00299144, 0.00199413, 0.00299287, 0.00199366]),\n",
       " 'score_time': array([0.00100064, 0.00099611, 0.        , 0.00100017, 0.00099707]),\n",
       " 'test_score': array([-245.8475108 , -390.70116946, -180.62834552, -198.44080825,\n",
       "        -282.86714165])}"
      ]
     },
     "execution_count": 239,
     "metadata": {},
     "output_type": "execute_result"
    }
   ],
   "source": [
    "from sklearn.model_selection import cross_validate\n",
    "rid_D = Ridge(alpha=100)\n",
    "scores = cross_validate(rid_D,trD_scaled, trD_target,scoring='neg_mean_absolute_error')\n",
    "scores"
   ]
  },
  {
   "cell_type": "code",
   "execution_count": 240,
   "metadata": {},
   "outputs": [
    {
     "data": {
      "text/plain": [
       "259.6969951364831"
      ]
     },
     "execution_count": 240,
     "metadata": {},
     "output_type": "execute_result"
    }
   ],
   "source": [
    "np.mean(scores['test_score'])*(-1) "
   ]
  },
  {
   "cell_type": "markdown",
   "metadata": {},
   "source": [
    "#### Torgersen"
   ]
  },
  {
   "cell_type": "code",
   "execution_count": 241,
   "metadata": {},
   "outputs": [],
   "source": [
    "## SS 있음\n",
    "poly = PolynomialFeatures(include_bias=False)\n",
    "poly.fit(tr_Torgersen)\n",
    "trT_poly = poly.transform(tr_Torgersen)\n",
    "teT_poly =  poly.transform(te_Torgersen)\n",
    "\n",
    "from sklearn.preprocessing import StandardScaler\n",
    "ss = StandardScaler()\n",
    "ss.fit(trT_poly)\n",
    "trT_scaled = ss.transform(trT_poly)\n",
    "teT_scaled = ss.transform(teT_poly)"
   ]
  },
  {
   "cell_type": "code",
   "execution_count": 144,
   "metadata": {},
   "outputs": [
    {
     "name": "stdout",
     "output_type": "stream",
     "text": [
      "{'alpha': 10}\n"
     ]
    }
   ],
   "source": [
    "from sklearn.model_selection import GridSearchCV\n",
    "ridge = Ridge()\n",
    "ridge_params = {'alpha' :  [0.001,0.01,0.1,10,100]}\n",
    "grid = GridSearchCV(estimator = ridge, param_grid = ridge_params, scoring = 'neg_mean_absolute_error')\n",
    "\n",
    "grid.fit(train_scaled, trT_target)\n",
    "best_param = grid.best_params_\n",
    "print(best_param)"
   ]
  },
  {
   "cell_type": "code",
   "execution_count": 242,
   "metadata": {},
   "outputs": [
    {
     "data": {
      "text/plain": [
       "{'fit_time': array([0.00199556, 0.00202274, 0.00299048, 0.0019927 , 0.00199652]),\n",
       " 'score_time': array([0.        , 0.00097084, 0.00099969, 0.00099659, 0.        ]),\n",
       " 'test_score': array([-416.49674162, -225.97112364, -367.52783249,  -56.03387402,\n",
       "        -129.01199032])}"
      ]
     },
     "execution_count": 242,
     "metadata": {},
     "output_type": "execute_result"
    }
   ],
   "source": [
    "from sklearn.model_selection import cross_validate\n",
    "rid_T = Ridge(alpha=10)\n",
    "scores = cross_validate(rid_T,trT_scaled, trT_target,scoring='neg_mean_absolute_error')\n",
    "scores"
   ]
  },
  {
   "cell_type": "code",
   "execution_count": 243,
   "metadata": {},
   "outputs": [
    {
     "data": {
      "text/plain": [
       "239.0083124191561"
      ]
     },
     "execution_count": 243,
     "metadata": {},
     "output_type": "execute_result"
    }
   ],
   "source": [
    "np.mean(scores['test_score'])*(-1) "
   ]
  },
  {
   "cell_type": "markdown",
   "metadata": {},
   "source": [
    "#### 결과 "
   ]
  },
  {
   "cell_type": "code",
   "execution_count": 230,
   "metadata": {},
   "outputs": [
    {
     "data": {
      "text/plain": [
       "245.00712987945718"
      ]
     },
     "execution_count": 230,
     "metadata": {},
     "output_type": "execute_result"
    }
   ],
   "source": [
    "(57*234.67277677344754 +45*259.6969951364831 +12*239.0083124191561)/114"
   ]
  },
  {
   "cell_type": "markdown",
   "metadata": {},
   "source": [
    "#### 제출 "
   ]
  },
  {
   "cell_type": "code",
   "execution_count": 252,
   "metadata": {},
   "outputs": [
    {
     "data": {
      "text/plain": [
       "Ridge(alpha=100)"
      ]
     },
     "execution_count": 252,
     "metadata": {},
     "output_type": "execute_result"
    }
   ],
   "source": [
    "rid_T.fit(trT_scaled, trT_target)\n",
    "rid_D.fit(trD_scaled, trD_target)\n",
    "rid_B.fit(trB_scaled,trB_target)"
   ]
  },
  {
   "cell_type": "code",
   "execution_count": 284,
   "metadata": {},
   "outputs": [],
   "source": [
    "pre1=rid_T.predict(teT_scaled)\n",
    "pre2=rid_D.predict(teD_scaled)\n",
    "pre3=rid_B.predict(teB_scaled)"
   ]
  },
  {
   "cell_type": "code",
   "execution_count": 285,
   "metadata": {},
   "outputs": [],
   "source": [
    "pre1 = pd.concat([pd.DataFrame(Torgerson_id).reset_index(drop=True),pd.DataFrame(pre1)],axis = 1,ignore_index=True)\n",
    "pre2 = pd.concat([pd.DataFrame(Dream_id).reset_index(drop=True),pd.DataFrame(pre2)],axis = 1,ignore_index=True)\n",
    "pre3 = pd.concat([pd.DataFrame(Biscoe_id).reset_index(drop=True),pd.DataFrame(pre3)],axis = 1,ignore_index=True) "
   ]
  },
  {
   "cell_type": "code",
   "execution_count": 288,
   "metadata": {},
   "outputs": [],
   "source": [
    "pre = pd.concat([pre1,pre2,pre3])"
   ]
  },
  {
   "cell_type": "code",
   "execution_count": 290,
   "metadata": {},
   "outputs": [],
   "source": [
    "pre.columns = ['id','Body Mass (g)']"
   ]
  },
  {
   "cell_type": "code",
   "execution_count": 291,
   "metadata": {},
   "outputs": [],
   "source": [
    "pre.sort_values(by='id',axis=0,inplace=True)"
   ]
  },
  {
   "cell_type": "code",
   "execution_count": 293,
   "metadata": {},
   "outputs": [],
   "source": [
    "pre = pre.drop('id', axis=1)"
   ]
  },
  {
   "cell_type": "code",
   "execution_count": 294,
   "metadata": {},
   "outputs": [],
   "source": [
    "submission['Body Mass (g)'] = np.array(pre['Body Mass (g)'])\n",
    "submission.to_csv('submission5.csv', index=False)"
   ]
  }
 ],
 "metadata": {
  "kernelspec": {
   "display_name": "Python 3",
   "language": "python",
   "name": "python3"
  },
  "language_info": {
   "codemirror_mode": {
    "name": "ipython",
    "version": 3
   },
   "file_extension": ".py",
   "mimetype": "text/x-python",
   "name": "python",
   "nbconvert_exporter": "python",
   "pygments_lexer": "ipython3",
   "version": "3.8.3"
  },
  "toc": {
   "base_numbering": 1,
   "nav_menu": {},
   "number_sections": true,
   "sideBar": true,
   "skip_h1_title": false,
   "title_cell": "Table of Contents",
   "title_sidebar": "Contents",
   "toc_cell": false,
   "toc_position": {
    "height": "calc(100% - 180px)",
    "left": "10px",
    "top": "150px",
    "width": "307.2px"
   },
   "toc_section_display": true,
   "toc_window_display": true
  }
 },
 "nbformat": 4,
 "nbformat_minor": 4
}
